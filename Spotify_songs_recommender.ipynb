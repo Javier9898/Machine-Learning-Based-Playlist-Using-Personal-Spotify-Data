{
  "nbformat": 4,
  "nbformat_minor": 0,
  "metadata": {
    "colab": {
      "name": "Spotify songs recommender.ipynb",
      "provenance": [],
      "collapsed_sections": [],
      "authorship_tag": "ABX9TyMsdUIokh0emYSdJ+yfhy6P",
      "include_colab_link": true
    },
    "kernelspec": {
      "name": "python3",
      "display_name": "Python 3"
    }
  },
  "cells": [
    {
      "cell_type": "markdown",
      "metadata": {
        "id": "view-in-github",
        "colab_type": "text"
      },
      "source": [
        "<a href=\"https://colab.research.google.com/github/Javier9898/Machine_Learning_Based_Playlist_Using_Personal_Spotify_Data/blob/master/Spotify_songs_recommender.ipynb\" target=\"_parent\"><img src=\"https://colab.research.google.com/assets/colab-badge.svg\" alt=\"Open In Colab\"/></a>"
      ]
    },
    {
      "cell_type": "markdown",
      "metadata": {
        "id": "gcI3Z0eBh-YH",
        "colab_type": "text"
      },
      "source": [
        "# **Building A Playlist Using Personal Spotify Data**"
      ]
    },
    {
      "cell_type": "markdown",
      "metadata": {
        "id": "t3jW3dHQjHu1",
        "colab_type": "text"
      },
      "source": [
        "## **Introduction**\n",
        "With the rising number of spotify users and the never ending amount of songs added each day, comes the increasing demand for efficiency and data driven decisions in satisfying the consumer musical needs. Instead of simply eyeballing music and gauging the surface level stats (duration, artists, listens, etc...), we can now look at an entire list of detailed stats that range from a songs speechiness which detects the presence of spoken words in a track, to simpler metrics of danceability. With these metrics, we can compare songs and determine which would be a good fit for a specific person based on their likings. In this project I use my own personal Spotify data gathered through the Privacy Settings of my Spotify account to accomplish just that.\n",
        "\n"
      ]
    },
    {
      "cell_type": "markdown",
      "metadata": {
        "id": "c5Vq7IWBlG2a",
        "colab_type": "text"
      },
      "source": [
        "## **Objectives**\n",
        "In this project, different metrics will be utilized to determine the type of music that should be recommended to me based on song stats and trends that occur over time from my use of Spotify. In order to accomplish this, I will use stats of over 230,000 songs (gathered from a Kaggle dataset called \"Spotify Tracks DB\") and my own Spotify listening history dataset to explore the data."
      ]
    },
    {
      "cell_type": "markdown",
      "metadata": {
        "id": "BitDjcq2lW37",
        "colab_type": "text"
      },
      "source": [
        "## **Terms Used in the Dataset**\n",
        "If you're intrested in learning about what the terms in each dataset mean you can visit:\n",
        "\n",
        "https://support.spotify.com/uk/account_payment_help/privacy/understanding-my-data/ for a full explanation of the **personal Spotify dataset**.\n",
        "\n",
        "\n",
        "https://developer.spotify.com/documentation/web-api/reference/tracks/get-audio-features/ for a full explanation of the **Spotify Tracks DB** dataset"
      ]
    },
    {
      "cell_type": "markdown",
      "metadata": {
        "id": "-5B28_uGleWb",
        "colab_type": "text"
      },
      "source": [
        "## **Data files:**\n",
        "\n",
        "1.   StreamingHistory0.json\n",
        "2.   SpotifyFeatures.csv\n"
      ]
    },
    {
      "cell_type": "markdown",
      "metadata": {
        "id": "zp2b9LBYkh0F",
        "colab_type": "text"
      },
      "source": [
        "## **Sources**\n",
        "\n",
        "Spotify Tracks DB: https://www.kaggle.com/zaheenhamidani/ultimate-spotify-tracks-db\n",
        "\n",
        "Spotify: https://www.spotify.com/pa/\n",
        "\n",
        "Inspired by: \"Así te manipulan para que te guste su música\" https://www.youtube.com/watch?v=3ITv2yXteW4&list=FLgdGQ-vXSLlQPz5VWnBCL_A&index=2&t=0s"
      ]
    },
    {
      "cell_type": "markdown",
      "metadata": {
        "id": "v1KRO-PbmAK7",
        "colab_type": "text"
      },
      "source": [
        "\n",
        "\n",
        "---\n",
        "\n"
      ]
    },
    {
      "cell_type": "markdown",
      "metadata": {
        "id": "kKd4o-9KmGMj",
        "colab_type": "text"
      },
      "source": [
        "## **Code**"
      ]
    },
    {
      "cell_type": "markdown",
      "metadata": {
        "id": "jwXOrCT90GMx",
        "colab_type": "text"
      },
      "source": [
        "### Libraries"
      ]
    },
    {
      "cell_type": "code",
      "metadata": {
        "id": "Pnnsu4TFmfXf",
        "colab_type": "code",
        "colab": {}
      },
      "source": [
        "import numpy as np #  multi-dimensional arrays and matrices, along with a large collection of high-level mathematical functions\n",
        "import pandas as pd # data manipulation\n",
        "\n",
        "# data visualization libraries\n",
        "import matplotlib.pyplot as plt  \n",
        "import seaborn as sns \n",
        "import plotly.graph_objs as go\n",
        "from plotly.offline import iplot\n",
        "\n",
        "from zipfile import ZipFile # used in this project to unzip the data\n",
        "\n",
        "# machine learning libraries\n",
        "from imblearn.over_sampling import SMOTE\n",
        "from sklearn.pipeline import Pipeline\n",
        "from sklearn.model_selection import cross_val_score\n",
        "from sklearn.model_selection import train_test_split\n",
        "from sklearn.model_selection import GridSearchCV\n",
        "from sklearn import metrics \n",
        "from sklearn.metrics import f1_score\n",
        "\n",
        "# Models\n",
        "from sklearn.ensemble import RandomForestClassifier\n",
        "from sklearn.tree import DecisionTreeClassifier"
      ],
      "execution_count": 45,
      "outputs": []
    },
    {
      "cell_type": "markdown",
      "metadata": {
        "id": "TuVuyPnR0W-q",
        "colab_type": "text"
      },
      "source": [
        "### Unzipping Data"
      ]
    },
    {
      "cell_type": "code",
      "metadata": {
        "id": "LrhUnjbWnB3y",
        "colab_type": "code",
        "colab": {
          "base_uri": "https://localhost:8080/",
          "height": 51
        },
        "outputId": "ec82e5d1-fcbc-4a37-ce22-f5a3953fe61c"
      },
      "source": [
        "# Unzipping the data\n",
        "def unzip(file_name):\n",
        "  with ZipFile(file_name, 'r') as zip:\n",
        "    zip.extractall()\n",
        "    print(\"Done\")\n",
        "\n",
        "\n",
        "unzip(\"my_spotify_data.zip\")\n",
        "unzip(\"135088_566393_bundle_archive.zip\")"
      ],
      "execution_count": 46,
      "outputs": [
        {
          "output_type": "stream",
          "text": [
            "Done\n",
            "Done\n"
          ],
          "name": "stdout"
        }
      ]
    },
    {
      "cell_type": "code",
      "metadata": {
        "id": "8x3rH9ZbpIOK",
        "colab_type": "code",
        "colab": {
          "base_uri": "https://localhost:8080/",
          "height": 142
        },
        "outputId": "d7482acc-0e4b-4e40-f35a-1e25f7599386"
      },
      "source": [
        "StreamingHistory = pd.read_json('MyData/StreamingHistory0.json')\n",
        "StreamingHistory.sample(3)"
      ],
      "execution_count": 47,
      "outputs": [
        {
          "output_type": "execute_result",
          "data": {
            "text/html": [
              "<div>\n",
              "<style scoped>\n",
              "    .dataframe tbody tr th:only-of-type {\n",
              "        vertical-align: middle;\n",
              "    }\n",
              "\n",
              "    .dataframe tbody tr th {\n",
              "        vertical-align: top;\n",
              "    }\n",
              "\n",
              "    .dataframe thead th {\n",
              "        text-align: right;\n",
              "    }\n",
              "</style>\n",
              "<table border=\"1\" class=\"dataframe\">\n",
              "  <thead>\n",
              "    <tr style=\"text-align: right;\">\n",
              "      <th></th>\n",
              "      <th>endTime</th>\n",
              "      <th>artistName</th>\n",
              "      <th>trackName</th>\n",
              "      <th>msPlayed</th>\n",
              "    </tr>\n",
              "  </thead>\n",
              "  <tbody>\n",
              "    <tr>\n",
              "      <th>6</th>\n",
              "      <td>2019-11-01 15:15</td>\n",
              "      <td>N.O.R.E.</td>\n",
              "      <td>Live My Life</td>\n",
              "      <td>53410</td>\n",
              "    </tr>\n",
              "    <tr>\n",
              "      <th>363</th>\n",
              "      <td>2020-06-06 17:15</td>\n",
              "      <td>Ricky Martin</td>\n",
              "      <td>Simple</td>\n",
              "      <td>215217</td>\n",
              "    </tr>\n",
              "    <tr>\n",
              "      <th>480</th>\n",
              "      <td>2020-06-15 01:16</td>\n",
              "      <td>SwuM</td>\n",
              "      <td>With U</td>\n",
              "      <td>218666</td>\n",
              "    </tr>\n",
              "  </tbody>\n",
              "</table>\n",
              "</div>"
            ],
            "text/plain": [
              "              endTime    artistName     trackName  msPlayed\n",
              "6    2019-11-01 15:15      N.O.R.E.  Live My Life     53410\n",
              "363  2020-06-06 17:15  Ricky Martin        Simple    215217\n",
              "480  2020-06-15 01:16          SwuM        With U    218666"
            ]
          },
          "metadata": {
            "tags": []
          },
          "execution_count": 47
        }
      ]
    },
    {
      "cell_type": "markdown",
      "metadata": {
        "id": "t44jOHu70kMc",
        "colab_type": "text"
      },
      "source": [
        "### Data Pre-processing"
      ]
    },
    {
      "cell_type": "code",
      "metadata": {
        "id": "JN1pJAYupjwg",
        "colab_type": "code",
        "colab": {}
      },
      "source": [
        "# Renaming columns for convenience\n",
        "StreamingHistory = StreamingHistory.rename(columns={\"endTime\":\"date\",\"artistName\":\"artist\",\"trackName\":\"track\"})"
      ],
      "execution_count": 48,
      "outputs": []
    },
    {
      "cell_type": "markdown",
      "metadata": {
        "id": "yzU48zsWtACF",
        "colab_type": "text"
      },
      "source": [
        "I will define my favorite songs as a song with 3 or more listens. With this i can create a new dataframe that contains only those songs for a better handling of information. But **Why did i choose 3?**\n",
        "As it can be seen from the histogram below, there's an exclusive amount of songs i've listened to more than twice. For me this is enough to tell a song is of my liking."
      ]
    },
    {
      "cell_type": "code",
      "metadata": {
        "id": "QeulTasmp7ao",
        "colab_type": "code",
        "colab": {
          "base_uri": "https://localhost:8080/",
          "height": 465
        },
        "outputId": "c1f7baed-e8ca-4a48-db7f-0037410a9fd7"
      },
      "source": [
        "song_frequency = StreamingHistory.groupby(['artist','track']).size().to_frame('Listened').reset_index().plot(kind='hist',bins=8)\n",
        "song_frequency.set_xlim(0,7)\n",
        "song_frequency.set_title(\"Choosing which are my 'favorite' songs\")"
      ],
      "execution_count": 49,
      "outputs": [
        {
          "output_type": "execute_result",
          "data": {
            "text/plain": [
              "Text(0.5, 1.0, \"Choosing which are my 'favorite' songs\")"
            ]
          },
          "metadata": {
            "tags": []
          },
          "execution_count": 49
        },
        {
          "output_type": "display_data",
          "data": {
            "image/png": "[encoded data removed]",
            "text/plain": [
              "<Figure size 1440x648 with 1 Axes>"
            ]
          },
          "metadata": {
            "tags": [],
            "needs_background": "light"
          }
        }
      ]
    },
    {
      "cell_type": "code",
      "metadata": {
        "id": "XmTx2-ZNrLZ2",
        "colab_type": "code",
        "colab": {
          "base_uri": "https://localhost:8080/",
          "height": 204
        },
        "outputId": "4b45a81b-04b6-4111-d84a-3043d3e804ea"
      },
      "source": [
        "# Creating a Dataframes which keeps songs with 15 or more listens\n",
        "favorite_songs = StreamingHistory.groupby(['artist','track']).size().to_frame('count').reset_index()\n",
        "favorite_songs = favorite_songs[favorite_songs['count']>=3]\n",
        "\n",
        "# Displaying the top 5 listened\n",
        "favorite_songs.sort_values(by='count', ascending=False).head(5)"
      ],
      "execution_count": 50,
      "outputs": [
        {
          "output_type": "execute_result",
          "data": {
            "text/html": [
              "<div>\n",
              "<style scoped>\n",
              "    .dataframe tbody tr th:only-of-type {\n",
              "        vertical-align: middle;\n",
              "    }\n",
              "\n",
              "    .dataframe tbody tr th {\n",
              "        vertical-align: top;\n",
              "    }\n",
              "\n",
              "    .dataframe thead th {\n",
              "        text-align: right;\n",
              "    }\n",
              "</style>\n",
              "<table border=\"1\" class=\"dataframe\">\n",
              "  <thead>\n",
              "    <tr style=\"text-align: right;\">\n",
              "      <th></th>\n",
              "      <th>artist</th>\n",
              "      <th>track</th>\n",
              "      <th>count</th>\n",
              "    </tr>\n",
              "  </thead>\n",
              "  <tbody>\n",
              "    <tr>\n",
              "      <th>285</th>\n",
              "      <td>dj poolboi</td>\n",
              "      <td>we can be happy</td>\n",
              "      <td>6</td>\n",
              "    </tr>\n",
              "    <tr>\n",
              "      <th>283</th>\n",
              "      <td>dj poolboi</td>\n",
              "      <td>like we were the last two people on earth</td>\n",
              "      <td>6</td>\n",
              "    </tr>\n",
              "    <tr>\n",
              "      <th>90</th>\n",
              "      <td>Idealism</td>\n",
              "      <td>Lonely</td>\n",
              "      <td>5</td>\n",
              "    </tr>\n",
              "    <tr>\n",
              "      <th>141</th>\n",
              "      <td>Louie Zong</td>\n",
              "      <td>Hello, World</td>\n",
              "      <td>5</td>\n",
              "    </tr>\n",
              "    <tr>\n",
              "      <th>284</th>\n",
              "      <td>dj poolboi</td>\n",
              "      <td>pretend we're okay</td>\n",
              "      <td>5</td>\n",
              "    </tr>\n",
              "  </tbody>\n",
              "</table>\n",
              "</div>"
            ],
            "text/plain": [
              "         artist                                      track  count\n",
              "285  dj poolboi                            we can be happy      6\n",
              "283  dj poolboi  like we were the last two people on earth      6\n",
              "90     Idealism                                     Lonely      5\n",
              "141  Louie Zong                               Hello, World      5\n",
              "284  dj poolboi                         pretend we're okay      5"
            ]
          },
          "metadata": {
            "tags": []
          },
          "execution_count": 50
        }
      ]
    },
    {
      "cell_type": "code",
      "metadata": {
        "id": "R5MGrM_xw2f_",
        "colab_type": "code",
        "colab": {
          "base_uri": "https://localhost:8080/",
          "height": 34
        },
        "outputId": "0daf7371-664d-4d18-bf3b-1478f010c4a7"
      },
      "source": [
        "#Finding out how many songs are considered to be my favorites\n",
        "favorite_songs.shape"
      ],
      "execution_count": 51,
      "outputs": [
        {
          "output_type": "execute_result",
          "data": {
            "text/plain": [
              "(49, 3)"
            ]
          },
          "metadata": {
            "tags": []
          },
          "execution_count": 51
        }
      ]
    },
    {
      "cell_type": "markdown",
      "metadata": {
        "id": "CubVTuUVzxEd",
        "colab_type": "text"
      },
      "source": [
        "There are nearly 50 songs considered as \"my favotires\""
      ]
    },
    {
      "cell_type": "code",
      "metadata": {
        "id": "JpXdA--9xv1B",
        "colab_type": "code",
        "colab": {
          "base_uri": "https://localhost:8080/",
          "height": 281
        },
        "outputId": "230d8d2c-ac6d-4652-a854-cfed006722dc"
      },
      "source": [
        "# Importing Spotify Features dataset\n",
        "features = pd.read_csv(\"SpotifyFeatures.csv\")\n",
        "# renaming columns\n",
        "features = features.rename(columns={\"artist_name\":\"artist\",\"track_name\":\"track\"})\n",
        "features.sample(3)"
      ],
      "execution_count": 52,
      "outputs": [
        {
          "output_type": "execute_result",
          "data": {
            "text/html": [
              "<div>\n",
              "<style scoped>\n",
              "    .dataframe tbody tr th:only-of-type {\n",
              "        vertical-align: middle;\n",
              "    }\n",
              "\n",
              "    .dataframe tbody tr th {\n",
              "        vertical-align: top;\n",
              "    }\n",
              "\n",
              "    .dataframe thead th {\n",
              "        text-align: right;\n",
              "    }\n",
              "</style>\n",
              "<table border=\"1\" class=\"dataframe\">\n",
              "  <thead>\n",
              "    <tr style=\"text-align: right;\">\n",
              "      <th></th>\n",
              "      <th>genre</th>\n",
              "      <th>artist</th>\n",
              "      <th>track</th>\n",
              "      <th>track_id</th>\n",
              "      <th>popularity</th>\n",
              "      <th>acousticness</th>\n",
              "      <th>danceability</th>\n",
              "      <th>duration_ms</th>\n",
              "      <th>energy</th>\n",
              "      <th>instrumentalness</th>\n",
              "      <th>key</th>\n",
              "      <th>liveness</th>\n",
              "      <th>loudness</th>\n",
              "      <th>mode</th>\n",
              "      <th>speechiness</th>\n",
              "      <th>tempo</th>\n",
              "      <th>time_signature</th>\n",
              "      <th>valence</th>\n",
              "    </tr>\n",
              "  </thead>\n",
              "  <tbody>\n",
              "    <tr>\n",
              "      <th>80577</th>\n",
              "      <td>Opera</td>\n",
              "      <td>Richard Wagner</td>\n",
              "      <td>Tannhauser, Act II: Einzug der Gaste auf der W...</td>\n",
              "      <td>6yQj9kWILfIsJJ8QDfIgfc</td>\n",
              "      <td>16</td>\n",
              "      <td>0.918000</td>\n",
              "      <td>0.275</td>\n",
              "      <td>398000</td>\n",
              "      <td>0.103</td>\n",
              "      <td>0.84500</td>\n",
              "      <td>B</td>\n",
              "      <td>0.0678</td>\n",
              "      <td>-19.624</td>\n",
              "      <td>Major</td>\n",
              "      <td>0.0373</td>\n",
              "      <td>129.928</td>\n",
              "      <td>4/4</td>\n",
              "      <td>0.161</td>\n",
              "    </tr>\n",
              "    <tr>\n",
              "      <th>136902</th>\n",
              "      <td>Reggae</td>\n",
              "      <td>Barrington Levy</td>\n",
              "      <td>Girl I Love You</td>\n",
              "      <td>6Sti1LHIG1UP1m6Bq1OUtR</td>\n",
              "      <td>30</td>\n",
              "      <td>0.000981</td>\n",
              "      <td>0.785</td>\n",
              "      <td>321527</td>\n",
              "      <td>0.426</td>\n",
              "      <td>0.10700</td>\n",
              "      <td>C#</td>\n",
              "      <td>0.1280</td>\n",
              "      <td>-13.971</td>\n",
              "      <td>Minor</td>\n",
              "      <td>0.0414</td>\n",
              "      <td>79.683</td>\n",
              "      <td>4/4</td>\n",
              "      <td>0.841</td>\n",
              "    </tr>\n",
              "    <tr>\n",
              "      <th>13111</th>\n",
              "      <td>Alternative</td>\n",
              "      <td>The Wonder Years</td>\n",
              "      <td>Pyramids of Salt</td>\n",
              "      <td>6mUSE1nLCzgt0ErxEIx1RM</td>\n",
              "      <td>42</td>\n",
              "      <td>0.001400</td>\n",
              "      <td>0.462</td>\n",
              "      <td>282080</td>\n",
              "      <td>0.763</td>\n",
              "      <td>0.00503</td>\n",
              "      <td>E</td>\n",
              "      <td>0.0847</td>\n",
              "      <td>-6.117</td>\n",
              "      <td>Major</td>\n",
              "      <td>0.0459</td>\n",
              "      <td>124.855</td>\n",
              "      <td>4/4</td>\n",
              "      <td>0.225</td>\n",
              "    </tr>\n",
              "  </tbody>\n",
              "</table>\n",
              "</div>"
            ],
            "text/plain": [
              "              genre            artist  ... time_signature valence\n",
              "80577         Opera    Richard Wagner  ...            4/4   0.161\n",
              "136902       Reggae   Barrington Levy  ...            4/4   0.841\n",
              "13111   Alternative  The Wonder Years  ...            4/4   0.225\n",
              "\n",
              "[3 rows x 18 columns]"
            ]
          },
          "metadata": {
            "tags": []
          },
          "execution_count": 52
        }
      ]
    },
    {
      "cell_type": "code",
      "metadata": {
        "id": "nv1ycI2ZGBXp",
        "colab_type": "code",
        "colab": {
          "base_uri": "https://localhost:8080/",
          "height": 213
        },
        "outputId": "25f4f527-b5a5-405d-8fa6-d246ea437541"
      },
      "source": [
        "# Create a 'favorite' column (favorite = 1, not favorite = 0)\n",
        "# This can be done by identifying the favorite songs within the list\n",
        "features['same_artists'] = features.artist.isin(favorite_songs.artist) \n",
        "features['same_track'] = features.track.isin(favorite_songs.track) \n",
        "features[\"favorite\"] = np.where((features[\"same_artists\"] == True) & (features[\"same_track\"] == True),1,0) # If both instances are True, fill the cell with 1, else place 0.\n",
        "features = features.drop([\"same_artists\",\"same_track\"],axis=1) # Dropping 'same_artist' and 'same_track'\n",
        "\n",
        "features.sample(3)"
      ],
      "execution_count": 53,
      "outputs": [
        {
          "output_type": "execute_result",
          "data": {
            "text/html": [
              "<div>\n",
              "<style scoped>\n",
              "    .dataframe tbody tr th:only-of-type {\n",
              "        vertical-align: middle;\n",
              "    }\n",
              "\n",
              "    .dataframe tbody tr th {\n",
              "        vertical-align: top;\n",
              "    }\n",
              "\n",
              "    .dataframe thead th {\n",
              "        text-align: right;\n",
              "    }\n",
              "</style>\n",
              "<table border=\"1\" class=\"dataframe\">\n",
              "  <thead>\n",
              "    <tr style=\"text-align: right;\">\n",
              "      <th></th>\n",
              "      <th>genre</th>\n",
              "      <th>artist</th>\n",
              "      <th>track</th>\n",
              "      <th>track_id</th>\n",
              "      <th>popularity</th>\n",
              "      <th>acousticness</th>\n",
              "      <th>danceability</th>\n",
              "      <th>duration_ms</th>\n",
              "      <th>energy</th>\n",
              "      <th>instrumentalness</th>\n",
              "      <th>key</th>\n",
              "      <th>liveness</th>\n",
              "      <th>loudness</th>\n",
              "      <th>mode</th>\n",
              "      <th>speechiness</th>\n",
              "      <th>tempo</th>\n",
              "      <th>time_signature</th>\n",
              "      <th>valence</th>\n",
              "      <th>favorite</th>\n",
              "    </tr>\n",
              "  </thead>\n",
              "  <tbody>\n",
              "    <tr>\n",
              "      <th>187075</th>\n",
              "      <td>Ska</td>\n",
              "      <td>Teenage Bottlerocket</td>\n",
              "      <td>Radio</td>\n",
              "      <td>5JeeIN2T3f5761d0hJmyzl</td>\n",
              "      <td>27</td>\n",
              "      <td>0.00569</td>\n",
              "      <td>0.460</td>\n",
              "      <td>143293</td>\n",
              "      <td>0.935</td>\n",
              "      <td>0.000175</td>\n",
              "      <td>G</td>\n",
              "      <td>0.291</td>\n",
              "      <td>-5.513</td>\n",
              "      <td>Major</td>\n",
              "      <td>0.0749</td>\n",
              "      <td>98.605</td>\n",
              "      <td>4/4</td>\n",
              "      <td>0.7560</td>\n",
              "      <td>0</td>\n",
              "    </tr>\n",
              "    <tr>\n",
              "      <th>167989</th>\n",
              "      <td>Comedy</td>\n",
              "      <td>Comedian Bob Marley</td>\n",
              "      <td>Itchy Boobs</td>\n",
              "      <td>7yoZBe2q8jE1jTisBirYnQ</td>\n",
              "      <td>34</td>\n",
              "      <td>0.85700</td>\n",
              "      <td>0.610</td>\n",
              "      <td>47360</td>\n",
              "      <td>0.432</td>\n",
              "      <td>0.000002</td>\n",
              "      <td>D</td>\n",
              "      <td>0.981</td>\n",
              "      <td>-16.001</td>\n",
              "      <td>Major</td>\n",
              "      <td>0.9260</td>\n",
              "      <td>97.475</td>\n",
              "      <td>4/4</td>\n",
              "      <td>0.8800</td>\n",
              "      <td>0</td>\n",
              "    </tr>\n",
              "    <tr>\n",
              "      <th>174512</th>\n",
              "      <td>Comedy</td>\n",
              "      <td>Eddie Izzard</td>\n",
              "      <td>Achilles Footwear</td>\n",
              "      <td>5YEj8ptQ9mmiq9UgDzgazz</td>\n",
              "      <td>13</td>\n",
              "      <td>0.79200</td>\n",
              "      <td>0.521</td>\n",
              "      <td>258867</td>\n",
              "      <td>0.858</td>\n",
              "      <td>0.000000</td>\n",
              "      <td>G</td>\n",
              "      <td>0.857</td>\n",
              "      <td>-16.595</td>\n",
              "      <td>Major</td>\n",
              "      <td>0.9060</td>\n",
              "      <td>121.431</td>\n",
              "      <td>4/4</td>\n",
              "      <td>0.0694</td>\n",
              "      <td>0</td>\n",
              "    </tr>\n",
              "  </tbody>\n",
              "</table>\n",
              "</div>"
            ],
            "text/plain": [
              "         genre                artist  ... valence favorite\n",
              "187075     Ska  Teenage Bottlerocket  ...  0.7560        0\n",
              "167989  Comedy   Comedian Bob Marley  ...  0.8800        0\n",
              "174512  Comedy          Eddie Izzard  ...  0.0694        0\n",
              "\n",
              "[3 rows x 19 columns]"
            ]
          },
          "metadata": {
            "tags": []
          },
          "execution_count": 53
        }
      ]
    },
    {
      "cell_type": "code",
      "metadata": {
        "id": "gSsoh5RTe6_f",
        "colab_type": "code",
        "colab": {}
      },
      "source": [
        "song_features = features.copy(deep=True)"
      ],
      "execution_count": 54,
      "outputs": []
    },
    {
      "cell_type": "code",
      "metadata": {
        "id": "ebB8r4GNIhzP",
        "colab_type": "code",
        "colab": {
          "base_uri": "https://localhost:8080/",
          "height": 34
        },
        "outputId": "fe43648b-1441-48d5-af28-122901e1cb81"
      },
      "source": [
        "features.loc[features['favorite'] == 1].shape"
      ],
      "execution_count": 55,
      "outputs": [
        {
          "output_type": "execute_result",
          "data": {
            "text/plain": [
              "(16, 19)"
            ]
          },
          "metadata": {
            "tags": []
          },
          "execution_count": 55
        }
      ]
    },
    {
      "cell_type": "markdown",
      "metadata": {
        "id": "sFB9BOzjJFTB",
        "colab_type": "text"
      },
      "source": [
        "There seems to only be data for 16 out of the 49 songs in my favorite songs list"
      ]
    },
    {
      "cell_type": "markdown",
      "metadata": {
        "id": "o_CzdptdJ1SM",
        "colab_type": "text"
      },
      "source": [
        "Being the case that all track_ids are unique and are used to represent both the artist and song name, this feature will not be useful to predict a favorite song. It'll be useful to drop this feature. A similar problem can be found in the 'track' column. Its uniqueness, makes it have a very low correlation between 'track' and 'favorite'. I will also drop this column."
      ]
    },
    {
      "cell_type": "code",
      "metadata": {
        "id": "Z-aGzyHGJXok",
        "colab_type": "code",
        "colab": {
          "base_uri": "https://localhost:8080/",
          "height": 34
        },
        "outputId": "3e6aff95-f70b-4b0a-b96d-793f9e77468e"
      },
      "source": [
        "# Dropping 'track_id' from the features column\n",
        "features = features.drop(columns='track_id')\n",
        "features = features.drop(columns='track')\n",
        "\n",
        "print(\"Done\")"
      ],
      "execution_count": 56,
      "outputs": [
        {
          "output_type": "stream",
          "text": [
            "Done\n"
          ],
          "name": "stdout"
        }
      ]
    },
    {
      "cell_type": "markdown",
      "metadata": {
        "id": "hUsAqrVhiKQF",
        "colab_type": "text"
      },
      "source": [
        "### Balancing classes with SMOTE and Feature Selection"
      ]
    },
    {
      "cell_type": "markdown",
      "metadata": {
        "id": "5HrOqsv7ilLU",
        "colab_type": "text"
      },
      "source": [
        "As my classes are overwhelmingly imbalanced, this will most likely make my model predict most songs as the majority class(not favorite, in my case). SMOTE creates machine learning based oversampling which for this case it'll create duplicate records fairly similar to one another allowing to add more samples to the minority class.\n",
        "\n",
        "While I could undersample from the majority class, it'll result in losing big amounts of data given the margin as to how much the majority class surpasses the minority."
      ]
    },
    {
      "cell_type": "code",
      "metadata": {
        "id": "NOf1boLHlnY2",
        "colab_type": "code",
        "colab": {
          "base_uri": "https://localhost:8080/",
          "height": 68
        },
        "outputId": "f7f1b44e-76b2-43b6-c684-f71feb389458"
      },
      "source": [
        "# Showing imbalances\n",
        "features.favorite.value_counts()"
      ],
      "execution_count": 57,
      "outputs": [
        {
          "output_type": "execute_result",
          "data": {
            "text/plain": [
              "0    232709\n",
              "1        16\n",
              "Name: favorite, dtype: int64"
            ]
          },
          "metadata": {
            "tags": []
          },
          "execution_count": 57
        }
      ]
    },
    {
      "cell_type": "code",
      "metadata": {
        "id": "Z4h3fu9tlrQu",
        "colab_type": "code",
        "colab": {
          "base_uri": "https://localhost:8080/",
          "height": 85
        },
        "outputId": "099ce2cb-6c0c-466d-ee6d-b1dc63e40b93"
      },
      "source": [
        "# Applying SMOTE\n",
        "X = features.drop(columns=['favorite','genre','artist','key','mode','time_signature']) # Using only numerical values\n",
        "y = features.favorite\n",
        "oversample = SMOTE()\n",
        "X, y = oversample.fit_resample(X, y)\n",
        "\n",
        "columns = ['popularity', 'acousticness', 'danceability', 'duration_ms', \n",
        "             'energy','instrumentalness', 'liveness', 'loudness', \n",
        "             'speechiness', 'tempo','valence']\n",
        "\n",
        "X = pd.DataFrame(data=X, columns=columns) \n",
        "\n",
        "X['favorite'] = y"
      ],
      "execution_count": 58,
      "outputs": [
        {
          "output_type": "stream",
          "text": [
            "/usr/local/lib/python3.6/dist-packages/sklearn/utils/deprecation.py:87: FutureWarning:\n",
            "\n",
            "Function safe_indexing is deprecated; safe_indexing is deprecated in version 0.22 and will be removed in version 0.24.\n",
            "\n"
          ],
          "name": "stderr"
        }
      ]
    },
    {
      "cell_type": "code",
      "metadata": {
        "id": "lqQ4956quzV_",
        "colab_type": "code",
        "colab": {
          "base_uri": "https://localhost:8080/",
          "height": 462
        },
        "outputId": "edb23d83-35bc-430a-c1b6-bfefc6f2261b"
      },
      "source": [
        "# Correlations Between the Data\n",
        "plt.rcParams['figure.figsize'] = (20, 9)\n",
        "sns.heatmap(X.corr(), cmap = 'copper', annot = True)\n",
        "\n",
        "plt.show()"
      ],
      "execution_count": 59,
      "outputs": [
        {
          "output_type": "display_data",
          "data": {
            "image/png": "[encoded data removed]",
            "text/plain": [
              "<Figure size 1440x648 with 2 Axes>"
            ]
          },
          "metadata": {
            "tags": [],
            "needs_background": "light"
          }
        }
      ]
    },
    {
      "cell_type": "markdown",
      "metadata": {
        "id": "TDPxHV1z1_AL",
        "colab_type": "text"
      },
      "source": [
        "Of all the features, **popularity, danceability, and speechiness** have the highest associations to a song becoming a favorite. "
      ]
    },
    {
      "cell_type": "markdown",
      "metadata": {
        "id": "dNgiK-wd5FFS",
        "colab_type": "text"
      },
      "source": [
        "### Model Selection"
      ]
    },
    {
      "cell_type": "markdown",
      "metadata": {
        "id": "Ebiu7Q1d5NYl",
        "colab_type": "text"
      },
      "source": [
        "In order to choose a good classifier for my recommender, I will compare two algorithms I consider to be great for the taks: **Decision Tree Classifier** and **Random Forest Classifier**. From this test i'll select the highest scored model."
      ]
    },
    {
      "cell_type": "markdown",
      "metadata": {
        "id": "MYX3VIke6x7M",
        "colab_type": "text"
      },
      "source": [
        "To score these models i'll use the **F1-score** since its best used when False Negatives and False Positives are crucial and is a better metric when there are imbalanced classes as in the present case."
      ]
    },
    {
      "cell_type": "code",
      "metadata": {
        "id": "k0P8yabi4sJK",
        "colab_type": "code",
        "colab": {}
      },
      "source": [
        "# Train / Split Data\n",
        "X_train, X_test, y_train, y_test = train_test_split(X.drop(columns='favorite'), X.favorite,test_size = .25)"
      ],
      "execution_count": 60,
      "outputs": []
    },
    {
      "cell_type": "code",
      "metadata": {
        "id": "GFC1UsvG7tdi",
        "colab_type": "code",
        "colab": {
          "base_uri": "https://localhost:8080/",
          "height": 34
        },
        "outputId": "853d90f0-4617-4846-9e1f-1cf974006020"
      },
      "source": [
        "# Hyperparameter tuning for the DecisionTreeClassifier\n",
        "parameters = {\n",
        "    'max_depth':[15,20,30],\n",
        "}\n",
        "dtc = Pipeline([('CV', GridSearchCV(DecisionTreeClassifier(), parameters, cv = 5))])\n",
        "dtc.fit(X_train, y_train)\n",
        "dtc.named_steps['CV'].best_params_"
      ],
      "execution_count": 61,
      "outputs": [
        {
          "output_type": "execute_result",
          "data": {
            "text/plain": [
              "{'max_depth': 30}"
            ]
          },
          "metadata": {
            "tags": []
          },
          "execution_count": 61
        }
      ]
    },
    {
      "cell_type": "code",
      "metadata": {
        "id": "NLEmvGqNFgwm",
        "colab_type": "code",
        "colab": {
          "base_uri": "https://localhost:8080/",
          "height": 34
        },
        "outputId": "8c5e146b-0140-4d4e-d782-fff0539bb0df"
      },
      "source": [
        "dt = DecisionTreeClassifier(max_depth=30)\n",
        "dt_scores = cross_val_score(dt, X_train, y_train, cv=10, scoring=\"f1\")\n",
        "np.mean(dt_scores)"
      ],
      "execution_count": 62,
      "outputs": [
        {
          "output_type": "execute_result",
          "data": {
            "text/plain": [
              "0.9998624686160802"
            ]
          },
          "metadata": {
            "tags": []
          },
          "execution_count": 62
        }
      ]
    },
    {
      "cell_type": "code",
      "metadata": {
        "id": "v8jNS340F8Hx",
        "colab_type": "code",
        "colab": {
          "base_uri": "https://localhost:8080/",
          "height": 34
        },
        "outputId": "1fc8fa9a-84d6-43f5-fa45-45def2e4f7f3"
      },
      "source": [
        "# Hyperparameter tuning for the RandomForestClassifier\n",
        "parameters = {\n",
        "    'max_depth':[6,12,15,20],\n",
        "    'n_estimators':[20,30]\n",
        "}\n",
        "clf = Pipeline([('CV', GridSearchCV(RandomForestClassifier(), parameters, cv = 5))])\n",
        "clf.fit(X_train, y_train)\n",
        "clf.named_steps['CV'].best_params_"
      ],
      "execution_count": 63,
      "outputs": [
        {
          "output_type": "execute_result",
          "data": {
            "text/plain": [
              "{'max_depth': 20, 'n_estimators': 20}"
            ]
          },
          "metadata": {
            "tags": []
          },
          "execution_count": 63
        }
      ]
    },
    {
      "cell_type": "code",
      "metadata": {
        "id": "lzc3FMwJGcU4",
        "colab_type": "code",
        "colab": {
          "base_uri": "https://localhost:8080/",
          "height": 34
        },
        "outputId": "37f7171c-adb7-45f8-8313-9b554c6cac3a"
      },
      "source": [
        "# Cross-validation for RandomForestClassifier\n",
        "rf = Pipeline([('rf', RandomForestClassifier(n_estimators = 20, max_depth = 30))])\n",
        "rf_scores = cross_val_score(rf, X_train, y_train, cv=10, scoring=\"f1\")\n",
        "np.mean(rf_scores)"
      ],
      "execution_count": 64,
      "outputs": [
        {
          "output_type": "execute_result",
          "data": {
            "text/plain": [
              "0.9999828062164813"
            ]
          },
          "metadata": {
            "tags": []
          },
          "execution_count": 64
        }
      ]
    },
    {
      "cell_type": "markdown",
      "metadata": {
        "id": "VPALAuEGYMeF",
        "colab_type": "text"
      },
      "source": [
        "Based on the score obtained, the Random Forest Tree is the best model to make predictions in this case."
      ]
    },
    {
      "cell_type": "markdown",
      "metadata": {
        "id": "S3SDDEl0YYFr",
        "colab_type": "text"
      },
      "source": [
        "Now, I will predict 'favorite' songs from the entire dataset."
      ]
    },
    {
      "cell_type": "markdown",
      "metadata": {
        "id": "pZkJEQBEeEeE",
        "colab_type": "text"
      },
      "source": [
        "### Predicting Songs"
      ]
    },
    {
      "cell_type": "code",
      "metadata": {
        "id": "EjWDgp4wGdJh",
        "colab_type": "code",
        "colab": {}
      },
      "source": [
        "prediction = clf.predict(song_features.drop(columns=['track','track_id','favorite',\n",
        "                                                     'genre','artist','key',\n",
        "                                                    'time_signature','mode']))"
      ],
      "execution_count": 65,
      "outputs": []
    },
    {
      "cell_type": "code",
      "metadata": {
        "id": "r9awYDYig89_",
        "colab_type": "code",
        "colab": {}
      },
      "source": [
        "# Adding a column for predictions\n",
        "song_features['prediction'] = prediction\n",
        "\n",
        "# With the recently created 'prediction' column we can get the songs that are not favorites but are predicted to be\n",
        "song_recommendation = song_features[(song_features['favorite']==0) & (song_features['prediction'] == 1)]"
      ],
      "execution_count": 66,
      "outputs": []
    },
    {
      "cell_type": "code",
      "metadata": {
        "id": "eDcFZRbekEXh",
        "colab_type": "code",
        "colab": {}
      },
      "source": [
        "# Cleaning the data so it only shows the necessary information \n",
        "song_recommendation = song_recommendation.drop(columns=['track_id','energy',\n",
        "                                                        'duration_ms','acousticness','key',\n",
        "                                                        'liveness','loudness','mode','speechiness',\n",
        "                                                        'tempo','time_signature','valence'])"
      ],
      "execution_count": 67,
      "outputs": []
    },
    {
      "cell_type": "code",
      "metadata": {
        "id": "HynubVldkiKD",
        "colab_type": "code",
        "colab": {
          "base_uri": "https://localhost:8080/",
          "height": 204
        },
        "outputId": "ad5b6908-7bcc-467f-8553-4bcfe31a2d36"
      },
      "source": [
        "song_recommendation.sample(5)"
      ],
      "execution_count": 68,
      "outputs": [
        {
          "output_type": "execute_result",
          "data": {
            "text/html": [
              "<div>\n",
              "<style scoped>\n",
              "    .dataframe tbody tr th:only-of-type {\n",
              "        vertical-align: middle;\n",
              "    }\n",
              "\n",
              "    .dataframe tbody tr th {\n",
              "        vertical-align: top;\n",
              "    }\n",
              "\n",
              "    .dataframe thead th {\n",
              "        text-align: right;\n",
              "    }\n",
              "</style>\n",
              "<table border=\"1\" class=\"dataframe\">\n",
              "  <thead>\n",
              "    <tr style=\"text-align: right;\">\n",
              "      <th></th>\n",
              "      <th>genre</th>\n",
              "      <th>artist</th>\n",
              "      <th>track</th>\n",
              "      <th>popularity</th>\n",
              "      <th>danceability</th>\n",
              "      <th>instrumentalness</th>\n",
              "      <th>favorite</th>\n",
              "      <th>prediction</th>\n",
              "    </tr>\n",
              "  </thead>\n",
              "  <tbody>\n",
              "    <tr>\n",
              "      <th>109210</th>\n",
              "      <td>Pop</td>\n",
              "      <td>Young Thug</td>\n",
              "      <td>High (feat. Elton John)</td>\n",
              "      <td>73</td>\n",
              "      <td>0.759</td>\n",
              "      <td>0.000058</td>\n",
              "      <td>0</td>\n",
              "      <td>1</td>\n",
              "    </tr>\n",
              "    <tr>\n",
              "      <th>87304</th>\n",
              "      <td>Rap</td>\n",
              "      <td>Rob $tone</td>\n",
              "      <td>Chill Bill</td>\n",
              "      <td>79</td>\n",
              "      <td>0.886</td>\n",
              "      <td>0.000990</td>\n",
              "      <td>0</td>\n",
              "      <td>1</td>\n",
              "    </tr>\n",
              "    <tr>\n",
              "      <th>87762</th>\n",
              "      <td>Rap</td>\n",
              "      <td>Shoreline Mafia</td>\n",
              "      <td>Whuss The Deal</td>\n",
              "      <td>71</td>\n",
              "      <td>0.837</td>\n",
              "      <td>0.000511</td>\n",
              "      <td>0</td>\n",
              "      <td>1</td>\n",
              "    </tr>\n",
              "    <tr>\n",
              "      <th>14054</th>\n",
              "      <td>Dance</td>\n",
              "      <td>Camila Cabello</td>\n",
              "      <td>OMG</td>\n",
              "      <td>72</td>\n",
              "      <td>0.655</td>\n",
              "      <td>0.115000</td>\n",
              "      <td>0</td>\n",
              "      <td>1</td>\n",
              "    </tr>\n",
              "    <tr>\n",
              "      <th>138923</th>\n",
              "      <td>Reggaeton</td>\n",
              "      <td>Bad Bunny</td>\n",
              "      <td>Caro</td>\n",
              "      <td>85</td>\n",
              "      <td>0.651</td>\n",
              "      <td>0.000202</td>\n",
              "      <td>0</td>\n",
              "      <td>1</td>\n",
              "    </tr>\n",
              "  </tbody>\n",
              "</table>\n",
              "</div>"
            ],
            "text/plain": [
              "            genre           artist  ... favorite  prediction\n",
              "109210        Pop       Young Thug  ...        0           1\n",
              "87304         Rap        Rob $tone  ...        0           1\n",
              "87762         Rap  Shoreline Mafia  ...        0           1\n",
              "14054       Dance   Camila Cabello  ...        0           1\n",
              "138923  Reggaeton        Bad Bunny  ...        0           1\n",
              "\n",
              "[5 rows x 8 columns]"
            ]
          },
          "metadata": {
            "tags": []
          },
          "execution_count": 68
        }
      ]
    },
    {
      "cell_type": "code",
      "metadata": {
        "id": "0OKLDPhokktK",
        "colab_type": "code",
        "colab": {
          "base_uri": "https://localhost:8080/",
          "height": 34
        },
        "outputId": "a1a43000-d676-45b8-fc36-725bfc1714b8"
      },
      "source": [
        "# Consulting how many songs were predicted as favorites\n",
        "song_recommendation.shape"
      ],
      "execution_count": 69,
      "outputs": [
        {
          "output_type": "execute_result",
          "data": {
            "text/plain": [
              "(119, 8)"
            ]
          },
          "metadata": {
            "tags": []
          },
          "execution_count": 69
        }
      ]
    },
    {
      "cell_type": "markdown",
      "metadata": {
        "id": "Bzt0BaSOko7T",
        "colab_type": "text"
      },
      "source": [
        "These is the resulting product of my song recommender, a good amount of songs out of the 232725 available from the \"Spotify Tracks DB\" were predicted to become my favorites. From the results I've gotten, I can confirm that i do know some of these artists and enjoy listening to their music."
      ]
    },
    {
      "cell_type": "markdown",
      "metadata": {
        "id": "su-3cT6LsNMt",
        "colab_type": "text"
      },
      "source": [
        "### Saving the results"
      ]
    },
    {
      "cell_type": "code",
      "metadata": {
        "id": "as7A6Op9sSDZ",
        "colab_type": "code",
        "colab": {
          "base_uri": "https://localhost:8080/",
          "height": 34
        },
        "outputId": "d8431c6a-3d99-4e62-98c6-9df70ea5bd61"
      },
      "source": [
        "song_recommendation.to_csv(\"recommendations.csv\")\n",
        "print(\"Done\")"
      ],
      "execution_count": 70,
      "outputs": [
        {
          "output_type": "stream",
          "text": [
            "Done\n"
          ],
          "name": "stdout"
        }
      ]
    }
  ]
}