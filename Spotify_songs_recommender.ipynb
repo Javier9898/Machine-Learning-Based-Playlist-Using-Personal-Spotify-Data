{
  "nbformat": 4,
  "nbformat_minor": 0,
  "metadata": {
    "colab": {
      "name": "Spotify songs recommender.ipynb",
      "provenance": [],
      "collapsed_sections": [],
      "authorship_tag": "ABX9TyMHBKIJfqLjg/j06LAHPBKN",
      "include_colab_link": true
    },
    "kernelspec": {
      "name": "python3",
      "display_name": "Python 3"
    }
  },
  "cells": [
    {
      "cell_type": "markdown",
      "metadata": {
        "id": "view-in-github",
        "colab_type": "text"
      },
      "source": [
        "<a href=\"https://colab.research.google.com/github/Javier9898/Machine_Learning_Based_Playlist_Using_Personal_Spotify_Data/blob/master/Spotify_songs_recommender.ipynb\" target=\"_parent\"><img src=\"https://colab.research.google.com/assets/colab-badge.svg\" alt=\"Open In Colab\"/></a>"
      ]
    },
    {
      "cell_type": "markdown",
      "metadata": {
        "id": "gcI3Z0eBh-YH",
        "colab_type": "text"
      },
      "source": [
        "# **Building A Playlist Using Personal Spotify Data**"
      ]
    },
    {
      "cell_type": "markdown",
      "metadata": {
        "id": "t3jW3dHQjHu1",
        "colab_type": "text"
      },
      "source": [
        "## **Introduction**\n",
        "With the rising number of spotify users and the never ending amount of songs added each day, comes the increasing demand for efficiency and data driven decisions in satisfying the consumer musical needs. Instead of simply eyeballing music and gauging the surface level stats (duration, artists, listens, etc...), we can now look at an entire list of detailed stats that range from a songs speechiness which detects the presence of spoken words in a track, to simpler metrics of danceability. With these metrics, we can compare songs and determine which would be a good fit for a specific person based on their likings. In this project I use my own personal Spotify data gathered through the Privacy Settings of my Spotify account to accomplish just that.\n",
        "\n"
      ]
    },
    {
      "cell_type": "markdown",
      "metadata": {
        "id": "c5Vq7IWBlG2a",
        "colab_type": "text"
      },
      "source": [
        "## **Objectives**\n",
        "In this project, different metrics will be utilized to determine the type of music that should be recommended to me based on song stats and trends that occur over time from my use of Spotify. In order to accomplish this, I will use stats of over 230,000 songs (gathered from a Kaggle dataset called \"Spotify Tracks DB\") and my own Spotify listening history dataset to explore the data."
      ]
    },
    {
      "cell_type": "markdown",
      "metadata": {
        "id": "BitDjcq2lW37",
        "colab_type": "text"
      },
      "source": [
        "## **Terms Used in the Dataset**\n",
        "If you're intrested in learning about what the terms in each dataset mean you can visit:\n",
        "\n",
        "https://support.spotify.com/uk/account_payment_help/privacy/understanding-my-data/ for a full explanation of the **personal Spotify dataset**.\n",
        "\n",
        "\n",
        "https://developer.spotify.com/documentation/web-api/reference/tracks/get-audio-features/ for a full explanation of the **Spotify Tracks DB** dataset"
      ]
    },
    {
      "cell_type": "markdown",
      "metadata": {
        "id": "-5B28_uGleWb",
        "colab_type": "text"
      },
      "source": [
        "## **Data files:**\n",
        "\n",
        "1.   StreamingHistory0.json\n",
        "2.   SpotifyFeatures.csv\n"
      ]
    },
    {
      "cell_type": "markdown",
      "metadata": {
        "id": "zp2b9LBYkh0F",
        "colab_type": "text"
      },
      "source": [
        "## **Sources**\n",
        "\n",
        "Spotify Tracks DB: https://www.kaggle.com/zaheenhamidani/ultimate-spotify-tracks-db\n",
        "\n",
        "Spotify: https://www.spotify.com/pa/\n",
        "\n",
        "Inspired by: \"Así te manipulan para que te guste su música\" https://www.youtube.com/watch?v=3ITv2yXteW4&list=FLgdGQ-vXSLlQPz5VWnBCL_A&index=2&t=0s"
      ]
    },
    {
      "cell_type": "markdown",
      "metadata": {
        "id": "v1KRO-PbmAK7",
        "colab_type": "text"
      },
      "source": [
        "\n",
        "\n",
        "---\n",
        "\n"
      ]
    },
    {
      "cell_type": "markdown",
      "metadata": {
        "id": "kKd4o-9KmGMj",
        "colab_type": "text"
      },
      "source": [
        "## **Code**"
      ]
    },
    {
      "cell_type": "markdown",
      "metadata": {
        "id": "jwXOrCT90GMx",
        "colab_type": "text"
      },
      "source": [
        "### Libraries"
      ]
    },
    {
      "cell_type": "code",
      "metadata": {
        "id": "Pnnsu4TFmfXf",
        "colab_type": "code",
        "colab": {
          "base_uri": "https://localhost:8080/",
          "height": 207
        },
        "outputId": "ddb58aea-7843-4752-93c3-920aafe7d54c"
      },
      "source": [
        "import numpy as np #  multi-dimensional arrays and matrices, along with a large collection of high-level mathematical functions\n",
        "import pandas as pd # data manipulation\n",
        "\n",
        "# data visualization libraries\n",
        "import matplotlib.pyplot as plt  \n",
        "import seaborn as sns \n",
        "import plotly.graph_objs as go\n",
        "from plotly.offline import iplot\n",
        "\n",
        "from zipfile import ZipFile # used in this project to unzip the data\n",
        "\n",
        "# machine learning libraries\n",
        "from imblearn.over_sampling import SMOTE\n",
        "from sklearn.pipeline import Pipeline\n",
        "from sklearn.model_selection import cross_val_score\n",
        "from sklearn.model_selection import train_test_split\n",
        "from sklearn.model_selection import GridSearchCV\n",
        "from sklearn import metrics \n",
        "from sklearn.metrics import f1_score\n",
        "\n",
        "# Models\n",
        "from sklearn.ensemble import RandomForestClassifier\n",
        "from sklearn.tree import DecisionTreeClassifier"
      ],
      "execution_count": 1,
      "outputs": [
        {
          "output_type": "stream",
          "text": [
            "/usr/local/lib/python3.6/dist-packages/statsmodels/tools/_testing.py:19: FutureWarning: pandas.util.testing is deprecated. Use the functions in the public API at pandas.testing instead.\n",
            "  import pandas.util.testing as tm\n",
            "/usr/local/lib/python3.6/dist-packages/sklearn/externals/six.py:31: FutureWarning:\n",
            "\n",
            "The module is deprecated in version 0.21 and will be removed in version 0.23 since we've dropped support for Python 2.7. Please rely on the official version of six (https://pypi.org/project/six/).\n",
            "\n",
            "/usr/local/lib/python3.6/dist-packages/sklearn/utils/deprecation.py:144: FutureWarning:\n",
            "\n",
            "The sklearn.neighbors.base module is  deprecated in version 0.22 and will be removed in version 0.24. The corresponding classes / functions should instead be imported from sklearn.neighbors. Anything that cannot be imported from sklearn.neighbors is now part of the private API.\n",
            "\n"
          ],
          "name": "stderr"
        }
      ]
    },
    {
      "cell_type": "markdown",
      "metadata": {
        "id": "TuVuyPnR0W-q",
        "colab_type": "text"
      },
      "source": [
        "### Unzipping Data"
      ]
    },
    {
      "cell_type": "code",
      "metadata": {
        "id": "LrhUnjbWnB3y",
        "colab_type": "code",
        "colab": {
          "base_uri": "https://localhost:8080/",
          "height": 51
        },
        "outputId": "f9d0f7eb-7c50-4ff8-8810-7de190ad5c88"
      },
      "source": [
        "# Unzipping the data\n",
        "def unzip(file_name):\n",
        "  with ZipFile(file_name, 'r') as zip:\n",
        "    zip.extractall()\n",
        "    print(\"Done\")\n",
        "\n",
        "\n",
        "unzip(\"my_spotify_data.zip\")\n",
        "unzip(\"135088_566393_bundle_archive.zip\")"
      ],
      "execution_count": 2,
      "outputs": [
        {
          "output_type": "stream",
          "text": [
            "Done\n",
            "Done\n"
          ],
          "name": "stdout"
        }
      ]
    },
    {
      "cell_type": "code",
      "metadata": {
        "id": "8x3rH9ZbpIOK",
        "colab_type": "code",
        "colab": {
          "base_uri": "https://localhost:8080/",
          "height": 142
        },
        "outputId": "9a47ac89-2d69-4224-e6e2-cbca33c91501"
      },
      "source": [
        "StreamingHistory = pd.read_json('MyData/StreamingHistory0.json')\n",
        "StreamingHistory.sample(3)"
      ],
      "execution_count": 3,
      "outputs": [
        {
          "output_type": "execute_result",
          "data": {
            "text/html": [
              "<div>\n",
              "<style scoped>\n",
              "    .dataframe tbody tr th:only-of-type {\n",
              "        vertical-align: middle;\n",
              "    }\n",
              "\n",
              "    .dataframe tbody tr th {\n",
              "        vertical-align: top;\n",
              "    }\n",
              "\n",
              "    .dataframe thead th {\n",
              "        text-align: right;\n",
              "    }\n",
              "</style>\n",
              "<table border=\"1\" class=\"dataframe\">\n",
              "  <thead>\n",
              "    <tr style=\"text-align: right;\">\n",
              "      <th></th>\n",
              "      <th>endTime</th>\n",
              "      <th>artistName</th>\n",
              "      <th>trackName</th>\n",
              "      <th>msPlayed</th>\n",
              "    </tr>\n",
              "  </thead>\n",
              "  <tbody>\n",
              "    <tr>\n",
              "      <th>73</th>\n",
              "      <td>2020-02-16 22:27</td>\n",
              "      <td>Kendrick Lamar</td>\n",
              "      <td>LOVE. FEAT. ZACARI.</td>\n",
              "      <td>213400</td>\n",
              "    </tr>\n",
              "    <tr>\n",
              "      <th>279</th>\n",
              "      <td>2020-04-29 21:19</td>\n",
              "      <td>Nicky Bondz</td>\n",
              "      <td>H.O.M.E.</td>\n",
              "      <td>24410</td>\n",
              "    </tr>\n",
              "    <tr>\n",
              "      <th>442</th>\n",
              "      <td>2020-06-13 21:00</td>\n",
              "      <td>halberd</td>\n",
              "      <td>summer nights.</td>\n",
              "      <td>84315</td>\n",
              "    </tr>\n",
              "  </tbody>\n",
              "</table>\n",
              "</div>"
            ],
            "text/plain": [
              "              endTime      artistName            trackName  msPlayed\n",
              "73   2020-02-16 22:27  Kendrick Lamar  LOVE. FEAT. ZACARI.    213400\n",
              "279  2020-04-29 21:19     Nicky Bondz             H.O.M.E.     24410\n",
              "442  2020-06-13 21:00         halberd       summer nights.     84315"
            ]
          },
          "metadata": {
            "tags": []
          },
          "execution_count": 3
        }
      ]
    },
    {
      "cell_type": "markdown",
      "metadata": {
        "id": "t44jOHu70kMc",
        "colab_type": "text"
      },
      "source": [
        "### Data Pre-processing"
      ]
    },
    {
      "cell_type": "code",
      "metadata": {
        "id": "JN1pJAYupjwg",
        "colab_type": "code",
        "colab": {}
      },
      "source": [
        "# Renaming columns for convenience\n",
        "StreamingHistory = StreamingHistory.rename(columns={\"endTime\":\"date\",\"artistName\":\"artist\",\"trackName\":\"track\"})"
      ],
      "execution_count": 4,
      "outputs": []
    },
    {
      "cell_type": "markdown",
      "metadata": {
        "id": "yzU48zsWtACF",
        "colab_type": "text"
      },
      "source": [
        "I will define my favorite songs as a song with 3 or more listens. With this i can create a new dataframe that contains only those songs for a better handling of information. But **Why did i choose 3?**\n",
        "As it can be seen from the histogram below, there's an exclusive amount of songs i've listened to more than twice. For me this is enough to tell a song is of my liking."
      ]
    },
    {
      "cell_type": "code",
      "metadata": {
        "id": "QeulTasmp7ao",
        "colab_type": "code",
        "colab": {
          "base_uri": "https://localhost:8080/",
          "height": 298
        },
        "outputId": "9b036869-d955-4766-d834-0412fde704de"
      },
      "source": [
        "song_frequency = StreamingHistory.groupby(['artist','track']).size().to_frame('Listened').reset_index().plot(kind='hist',bins=8)\n",
        "song_frequency.set_xlim(0,7)\n",
        "song_frequency.set_title(\"Choosing which are my 'favorite' songs\")"
      ],
      "execution_count": 5,
      "outputs": [
        {
          "output_type": "execute_result",
          "data": {
            "text/plain": [
              "Text(0.5, 1.0, \"Choosing which are my 'favorite' songs\")"
            ]
          },
          "metadata": {
            "tags": []
          },
          "execution_count": 5
        },
        {
          "output_type": "display_data",
          "data": {
            "image/png": "[encoded data removed]",
            "text/plain": [
              "<Figure size 432x288 with 1 Axes>"
            ]
          },
          "metadata": {
            "tags": [],
            "needs_background": "light"
          }
        }
      ]
    },
    {
      "cell_type": "code",
      "metadata": {
        "id": "XmTx2-ZNrLZ2",
        "colab_type": "code",
        "colab": {
          "base_uri": "https://localhost:8080/",
          "height": 204
        },
        "outputId": "8efc454b-a57a-43c9-fa61-8bf1d764b5dc"
      },
      "source": [
        "# Creating a Dataframes which keeps songs with 15 or more listens\n",
        "favorite_songs = StreamingHistory.groupby(['artist','track']).size().to_frame('count').reset_index()\n",
        "favorite_songs = favorite_songs[favorite_songs['count']>=3]\n",
        "\n",
        "# Displaying the top 5 listened\n",
        "favorite_songs.sort_values(by='count', ascending=False).head(5)"
      ],
      "execution_count": 6,
      "outputs": [
        {
          "output_type": "execute_result",
          "data": {
            "text/html": [
              "<div>\n",
              "<style scoped>\n",
              "    .dataframe tbody tr th:only-of-type {\n",
              "        vertical-align: middle;\n",
              "    }\n",
              "\n",
              "    .dataframe tbody tr th {\n",
              "        vertical-align: top;\n",
              "    }\n",
              "\n",
              "    .dataframe thead th {\n",
              "        text-align: right;\n",
              "    }\n",
              "</style>\n",
              "<table border=\"1\" class=\"dataframe\">\n",
              "  <thead>\n",
              "    <tr style=\"text-align: right;\">\n",
              "      <th></th>\n",
              "      <th>artist</th>\n",
              "      <th>track</th>\n",
              "      <th>count</th>\n",
              "    </tr>\n",
              "  </thead>\n",
              "  <tbody>\n",
              "    <tr>\n",
              "      <th>285</th>\n",
              "      <td>dj poolboi</td>\n",
              "      <td>we can be happy</td>\n",
              "      <td>6</td>\n",
              "    </tr>\n",
              "    <tr>\n",
              "      <th>283</th>\n",
              "      <td>dj poolboi</td>\n",
              "      <td>like we were the last two people on earth</td>\n",
              "      <td>6</td>\n",
              "    </tr>\n",
              "    <tr>\n",
              "      <th>90</th>\n",
              "      <td>Idealism</td>\n",
              "      <td>Lonely</td>\n",
              "      <td>5</td>\n",
              "    </tr>\n",
              "    <tr>\n",
              "      <th>141</th>\n",
              "      <td>Louie Zong</td>\n",
              "      <td>Hello, World</td>\n",
              "      <td>5</td>\n",
              "    </tr>\n",
              "    <tr>\n",
              "      <th>284</th>\n",
              "      <td>dj poolboi</td>\n",
              "      <td>pretend we're okay</td>\n",
              "      <td>5</td>\n",
              "    </tr>\n",
              "  </tbody>\n",
              "</table>\n",
              "</div>"
            ],
            "text/plain": [
              "         artist                                      track  count\n",
              "285  dj poolboi                            we can be happy      6\n",
              "283  dj poolboi  like we were the last two people on earth      6\n",
              "90     Idealism                                     Lonely      5\n",
              "141  Louie Zong                               Hello, World      5\n",
              "284  dj poolboi                         pretend we're okay      5"
            ]
          },
          "metadata": {
            "tags": []
          },
          "execution_count": 6
        }
      ]
    },
    {
      "cell_type": "code",
      "metadata": {
        "id": "R5MGrM_xw2f_",
        "colab_type": "code",
        "colab": {
          "base_uri": "https://localhost:8080/",
          "height": 34
        },
        "outputId": "beb14911-4c00-4b34-b326-bfd51c59543e"
      },
      "source": [
        "#Finding out how many songs are considered to be my favorites\n",
        "favorite_songs.shape"
      ],
      "execution_count": 7,
      "outputs": [
        {
          "output_type": "execute_result",
          "data": {
            "text/plain": [
              "(49, 3)"
            ]
          },
          "metadata": {
            "tags": []
          },
          "execution_count": 7
        }
      ]
    },
    {
      "cell_type": "markdown",
      "metadata": {
        "id": "CubVTuUVzxEd",
        "colab_type": "text"
      },
      "source": [
        "There are nearly 50 songs considered as \"my favotires\""
      ]
    },
    {
      "cell_type": "code",
      "metadata": {
        "id": "JpXdA--9xv1B",
        "colab_type": "code",
        "colab": {
          "base_uri": "https://localhost:8080/",
          "height": 230
        },
        "outputId": "0788a478-ae77-4f0a-be78-60d33a8ec1c6"
      },
      "source": [
        "# Importing Spotify Features dataset\n",
        "features = pd.read_csv(\"SpotifyFeatures.csv\")\n",
        "# renaming columns\n",
        "features = features.rename(columns={\"artist_name\":\"artist\",\"track_name\":\"track\"})\n",
        "features.sample(3)"
      ],
      "execution_count": 8,
      "outputs": [
        {
          "output_type": "execute_result",
          "data": {
            "text/html": [
              "<div>\n",
              "<style scoped>\n",
              "    .dataframe tbody tr th:only-of-type {\n",
              "        vertical-align: middle;\n",
              "    }\n",
              "\n",
              "    .dataframe tbody tr th {\n",
              "        vertical-align: top;\n",
              "    }\n",
              "\n",
              "    .dataframe thead th {\n",
              "        text-align: right;\n",
              "    }\n",
              "</style>\n",
              "<table border=\"1\" class=\"dataframe\">\n",
              "  <thead>\n",
              "    <tr style=\"text-align: right;\">\n",
              "      <th></th>\n",
              "      <th>genre</th>\n",
              "      <th>artist</th>\n",
              "      <th>track</th>\n",
              "      <th>track_id</th>\n",
              "      <th>popularity</th>\n",
              "      <th>acousticness</th>\n",
              "      <th>danceability</th>\n",
              "      <th>duration_ms</th>\n",
              "      <th>energy</th>\n",
              "      <th>instrumentalness</th>\n",
              "      <th>key</th>\n",
              "      <th>liveness</th>\n",
              "      <th>loudness</th>\n",
              "      <th>mode</th>\n",
              "      <th>speechiness</th>\n",
              "      <th>tempo</th>\n",
              "      <th>time_signature</th>\n",
              "      <th>valence</th>\n",
              "    </tr>\n",
              "  </thead>\n",
              "  <tbody>\n",
              "    <tr>\n",
              "      <th>207710</th>\n",
              "      <td>World</td>\n",
              "      <td>Jesus Culture</td>\n",
              "      <td>Revelation Song - Live</td>\n",
              "      <td>0x37pd7WllmDTIMm4T0UaN</td>\n",
              "      <td>53</td>\n",
              "      <td>0.0232</td>\n",
              "      <td>0.379</td>\n",
              "      <td>567187</td>\n",
              "      <td>0.605</td>\n",
              "      <td>0.0</td>\n",
              "      <td>E</td>\n",
              "      <td>0.863</td>\n",
              "      <td>-5.583</td>\n",
              "      <td>Major</td>\n",
              "      <td>0.0341</td>\n",
              "      <td>131.986</td>\n",
              "      <td>4/4</td>\n",
              "      <td>0.140</td>\n",
              "    </tr>\n",
              "    <tr>\n",
              "      <th>114965</th>\n",
              "      <td>Rap</td>\n",
              "      <td>Westside Connection</td>\n",
              "      <td>Gangsta Nation</td>\n",
              "      <td>65iyI1iybyv5ecsfBHSdUf</td>\n",
              "      <td>69</td>\n",
              "      <td>0.1270</td>\n",
              "      <td>0.843</td>\n",
              "      <td>293053</td>\n",
              "      <td>0.700</td>\n",
              "      <td>0.0</td>\n",
              "      <td>A</td>\n",
              "      <td>0.876</td>\n",
              "      <td>-3.249</td>\n",
              "      <td>Minor</td>\n",
              "      <td>0.2600</td>\n",
              "      <td>95.050</td>\n",
              "      <td>4/4</td>\n",
              "      <td>0.675</td>\n",
              "    </tr>\n",
              "    <tr>\n",
              "      <th>111081</th>\n",
              "      <td>Pop</td>\n",
              "      <td>Ying Yang Twins</td>\n",
              "      <td>Salt Shaker</td>\n",
              "      <td>4Kd0FzFpOgIGxlBl4HXuFn</td>\n",
              "      <td>66</td>\n",
              "      <td>0.0509</td>\n",
              "      <td>0.884</td>\n",
              "      <td>252440</td>\n",
              "      <td>0.697</td>\n",
              "      <td>0.0</td>\n",
              "      <td>B</td>\n",
              "      <td>0.094</td>\n",
              "      <td>-6.022</td>\n",
              "      <td>Major</td>\n",
              "      <td>0.1280</td>\n",
              "      <td>101.965</td>\n",
              "      <td>4/4</td>\n",
              "      <td>0.322</td>\n",
              "    </tr>\n",
              "  </tbody>\n",
              "</table>\n",
              "</div>"
            ],
            "text/plain": [
              "        genre               artist  ... time_signature valence\n",
              "207710  World        Jesus Culture  ...            4/4   0.140\n",
              "114965    Rap  Westside Connection  ...            4/4   0.675\n",
              "111081    Pop      Ying Yang Twins  ...            4/4   0.322\n",
              "\n",
              "[3 rows x 18 columns]"
            ]
          },
          "metadata": {
            "tags": []
          },
          "execution_count": 8
        }
      ]
    },
    {
      "cell_type": "code",
      "metadata": {
        "id": "nv1ycI2ZGBXp",
        "colab_type": "code",
        "colab": {
          "base_uri": "https://localhost:8080/",
          "height": 247
        },
        "outputId": "f9643d52-ee84-4ca2-adcb-042af31500d6"
      },
      "source": [
        "# Create a 'favorite' column (favorite = 1, not favorite = 0)\n",
        "# This can be done by identifying the favorite songs within the list\n",
        "features['same_artists'] = features.artist.isin(favorite_songs.artist) \n",
        "features['same_track'] = features.track.isin(favorite_songs.track) \n",
        "features[\"favorite\"] = np.where((features[\"same_artists\"] == True) & (features[\"same_track\"] == True),1,0) # If both instances are True, fill the cell with 1, else place 0.\n",
        "features = features.drop([\"same_artists\",\"same_track\"],axis=1) # Dropping 'same_artist' and 'same_track'\n",
        "\n",
        "features.sample(3)"
      ],
      "execution_count": 9,
      "outputs": [
        {
          "output_type": "execute_result",
          "data": {
            "text/html": [
              "<div>\n",
              "<style scoped>\n",
              "    .dataframe tbody tr th:only-of-type {\n",
              "        vertical-align: middle;\n",
              "    }\n",
              "\n",
              "    .dataframe tbody tr th {\n",
              "        vertical-align: top;\n",
              "    }\n",
              "\n",
              "    .dataframe thead th {\n",
              "        text-align: right;\n",
              "    }\n",
              "</style>\n",
              "<table border=\"1\" class=\"dataframe\">\n",
              "  <thead>\n",
              "    <tr style=\"text-align: right;\">\n",
              "      <th></th>\n",
              "      <th>genre</th>\n",
              "      <th>artist</th>\n",
              "      <th>track</th>\n",
              "      <th>track_id</th>\n",
              "      <th>popularity</th>\n",
              "      <th>acousticness</th>\n",
              "      <th>danceability</th>\n",
              "      <th>duration_ms</th>\n",
              "      <th>energy</th>\n",
              "      <th>instrumentalness</th>\n",
              "      <th>key</th>\n",
              "      <th>liveness</th>\n",
              "      <th>loudness</th>\n",
              "      <th>mode</th>\n",
              "      <th>speechiness</th>\n",
              "      <th>tempo</th>\n",
              "      <th>time_signature</th>\n",
              "      <th>valence</th>\n",
              "      <th>favorite</th>\n",
              "    </tr>\n",
              "  </thead>\n",
              "  <tbody>\n",
              "    <tr>\n",
              "      <th>19250</th>\n",
              "      <td>Dance</td>\n",
              "      <td>Big Time Rush</td>\n",
              "      <td>Cover Girl</td>\n",
              "      <td>1UOvx8OnawY14eJuBJc6YX</td>\n",
              "      <td>50</td>\n",
              "      <td>0.0923</td>\n",
              "      <td>0.765</td>\n",
              "      <td>180280</td>\n",
              "      <td>0.718</td>\n",
              "      <td>0.0</td>\n",
              "      <td>D#</td>\n",
              "      <td>0.307</td>\n",
              "      <td>-5.939</td>\n",
              "      <td>Major</td>\n",
              "      <td>0.0300</td>\n",
              "      <td>102.041</td>\n",
              "      <td>4/4</td>\n",
              "      <td>0.808</td>\n",
              "      <td>0</td>\n",
              "    </tr>\n",
              "    <tr>\n",
              "      <th>166131</th>\n",
              "      <td>Rock</td>\n",
              "      <td>Thomas Rhett</td>\n",
              "      <td>Die A Happy Man</td>\n",
              "      <td>5kNe7PE09d6Kvw5pAsx23n</td>\n",
              "      <td>77</td>\n",
              "      <td>0.3810</td>\n",
              "      <td>0.660</td>\n",
              "      <td>227427</td>\n",
              "      <td>0.383</td>\n",
              "      <td>0.0</td>\n",
              "      <td>D</td>\n",
              "      <td>0.119</td>\n",
              "      <td>-9.377</td>\n",
              "      <td>Major</td>\n",
              "      <td>0.0304</td>\n",
              "      <td>83.096</td>\n",
              "      <td>4/4</td>\n",
              "      <td>0.381</td>\n",
              "      <td>0</td>\n",
              "    </tr>\n",
              "    <tr>\n",
              "      <th>225651</th>\n",
              "      <td>Rock</td>\n",
              "      <td>Billy Joel</td>\n",
              "      <td>Lullabye (Goodnight, My Angel)</td>\n",
              "      <td>4cURHmiuYii52BVbhrGbv0</td>\n",
              "      <td>54</td>\n",
              "      <td>0.9480</td>\n",
              "      <td>0.442</td>\n",
              "      <td>214400</td>\n",
              "      <td>0.157</td>\n",
              "      <td>0.0</td>\n",
              "      <td>G</td>\n",
              "      <td>0.224</td>\n",
              "      <td>-13.791</td>\n",
              "      <td>Major</td>\n",
              "      <td>0.0324</td>\n",
              "      <td>76.480</td>\n",
              "      <td>4/4</td>\n",
              "      <td>0.220</td>\n",
              "      <td>0</td>\n",
              "    </tr>\n",
              "  </tbody>\n",
              "</table>\n",
              "</div>"
            ],
            "text/plain": [
              "        genre         artist  ... valence favorite\n",
              "19250   Dance  Big Time Rush  ...   0.808        0\n",
              "166131   Rock   Thomas Rhett  ...   0.381        0\n",
              "225651   Rock     Billy Joel  ...   0.220        0\n",
              "\n",
              "[3 rows x 19 columns]"
            ]
          },
          "metadata": {
            "tags": []
          },
          "execution_count": 9
        }
      ]
    },
    {
      "cell_type": "code",
      "metadata": {
        "id": "gSsoh5RTe6_f",
        "colab_type": "code",
        "colab": {}
      },
      "source": [
        "song_features = features.copy(deep=True)"
      ],
      "execution_count": 10,
      "outputs": []
    },
    {
      "cell_type": "code",
      "metadata": {
        "id": "ebB8r4GNIhzP",
        "colab_type": "code",
        "colab": {
          "base_uri": "https://localhost:8080/",
          "height": 34
        },
        "outputId": "3f20f352-82b5-48fa-aa9b-c8ab220c9067"
      },
      "source": [
        "features.loc[features['favorite'] == 1].shape"
      ],
      "execution_count": 11,
      "outputs": [
        {
          "output_type": "execute_result",
          "data": {
            "text/plain": [
              "(16, 19)"
            ]
          },
          "metadata": {
            "tags": []
          },
          "execution_count": 11
        }
      ]
    },
    {
      "cell_type": "markdown",
      "metadata": {
        "id": "sFB9BOzjJFTB",
        "colab_type": "text"
      },
      "source": [
        "There seems to only be data for 16 out of the 49 songs in my favorite songs list"
      ]
    },
    {
      "cell_type": "markdown",
      "metadata": {
        "id": "o_CzdptdJ1SM",
        "colab_type": "text"
      },
      "source": [
        "Being the case that all track_ids are unique and are used to represent both the artist and song name, this feature will not be useful to predict a favorite song. It'll be useful to drop this feature. A similar problem can be found in the 'track' column. Its uniqueness, makes it have a very low correlation between 'track' and 'favorite'. I will also drop this column."
      ]
    },
    {
      "cell_type": "code",
      "metadata": {
        "id": "Z-aGzyHGJXok",
        "colab_type": "code",
        "colab": {
          "base_uri": "https://localhost:8080/",
          "height": 34
        },
        "outputId": "078b8316-a855-40f1-e906-42010b853a85"
      },
      "source": [
        "# Dropping 'track_id' from the features column\n",
        "features = features.drop(columns='track_id')\n",
        "features = features.drop(columns='track')\n",
        "\n",
        "print(\"Done\")"
      ],
      "execution_count": 12,
      "outputs": [
        {
          "output_type": "stream",
          "text": [
            "Done\n"
          ],
          "name": "stdout"
        }
      ]
    },
    {
      "cell_type": "markdown",
      "metadata": {
        "id": "hUsAqrVhiKQF",
        "colab_type": "text"
      },
      "source": [
        "### Balancing classes with SMOTE and Feature Selection"
      ]
    },
    {
      "cell_type": "markdown",
      "metadata": {
        "id": "5HrOqsv7ilLU",
        "colab_type": "text"
      },
      "source": [
        "As my classes are overwhelmingly imbalanced, this will most likely make my model predict most songs as the majority class(not favorite, in my case). SMOTE creates machine learning based oversampling which for this case it'll create duplicate records fairly similar to one another allowing to add more samples to the minority class.\n",
        "\n",
        "While I could undersample from the majority class, it'll result in losing big amounts of data given the margin as to how much the majority class surpasses the minority."
      ]
    },
    {
      "cell_type": "code",
      "metadata": {
        "id": "NOf1boLHlnY2",
        "colab_type": "code",
        "colab": {
          "base_uri": "https://localhost:8080/",
          "height": 68
        },
        "outputId": "f87cc2b8-862d-4191-d7aa-64aa93f7a473"
      },
      "source": [
        "# Showing imbalances\n",
        "features.favorite.value_counts()"
      ],
      "execution_count": 13,
      "outputs": [
        {
          "output_type": "execute_result",
          "data": {
            "text/plain": [
              "0    232709\n",
              "1        16\n",
              "Name: favorite, dtype: int64"
            ]
          },
          "metadata": {
            "tags": []
          },
          "execution_count": 13
        }
      ]
    },
    {
      "cell_type": "code",
      "metadata": {
        "id": "Z4h3fu9tlrQu",
        "colab_type": "code",
        "colab": {
          "base_uri": "https://localhost:8080/",
          "height": 85
        },
        "outputId": "b6279423-9fe4-4660-b02b-10522fd3e77c"
      },
      "source": [
        "# Applying SMOTE\n",
        "X = features.drop(columns=['favorite','genre','artist','key','mode','time_signature']) # Using only numerical values\n",
        "y = features.favorite\n",
        "oversample = SMOTE()\n",
        "X, y = oversample.fit_resample(X, y)\n",
        "\n",
        "columns = ['popularity', 'acousticness', 'danceability', 'duration_ms', \n",
        "             'energy','instrumentalness', 'liveness', 'loudness', \n",
        "             'speechiness', 'tempo','valence']\n",
        "\n",
        "X = pd.DataFrame(data=X, columns=columns) \n",
        "\n",
        "X['favorite'] = y"
      ],
      "execution_count": 14,
      "outputs": [
        {
          "output_type": "stream",
          "text": [
            "/usr/local/lib/python3.6/dist-packages/sklearn/utils/deprecation.py:87: FutureWarning:\n",
            "\n",
            "Function safe_indexing is deprecated; safe_indexing is deprecated in version 0.22 and will be removed in version 0.24.\n",
            "\n"
          ],
          "name": "stderr"
        }
      ]
    },
    {
      "cell_type": "code",
      "metadata": {
        "id": "lqQ4956quzV_",
        "colab_type": "code",
        "colab": {
          "base_uri": "https://localhost:8080/",
          "height": 462
        },
        "outputId": "82615459-7794-4d02-e1c7-e402d9bf3ba1"
      },
      "source": [
        "# Correlations Between the Data\n",
        "plt.rcParams['figure.figsize'] = (20, 9)\n",
        "sns.heatmap(X.corr(), cmap = 'copper', annot = True)\n",
        "\n",
        "plt.show()"
      ],
      "execution_count": 15,
      "outputs": [
        {
          "output_type": "display_data",
          "data": {
            "image/png": "[encoded data removed]",
            "text/plain": [
              "<Figure size 1440x648 with 2 Axes>"
            ]
          },
          "metadata": {
            "tags": [],
            "needs_background": "light"
          }
        }
      ]
    },
    {
      "cell_type": "markdown",
      "metadata": {
        "id": "TDPxHV1z1_AL",
        "colab_type": "text"
      },
      "source": [
        "Of all the features, **popularity, danceability, and speechiness** have the highest associations to a song becoming a favorite. "
      ]
    },
    {
      "cell_type": "markdown",
      "metadata": {
        "id": "dNgiK-wd5FFS",
        "colab_type": "text"
      },
      "source": [
        "### Model Selection"
      ]
    },
    {
      "cell_type": "markdown",
      "metadata": {
        "id": "Ebiu7Q1d5NYl",
        "colab_type": "text"
      },
      "source": [
        "In order to choose a good classifier for my recommender, I will compare two algorithms I consider to be great for the taks: **Decision Tree Classifier** and **Random Forest Classifier**. From this test i'll select the highest scored model."
      ]
    },
    {
      "cell_type": "markdown",
      "metadata": {
        "id": "MYX3VIke6x7M",
        "colab_type": "text"
      },
      "source": [
        "To score these models i'll use the **F1-score** since its best used when False Negatives and False Positives are crucial and is a better metric when there are imbalanced classes as in the present case."
      ]
    },
    {
      "cell_type": "code",
      "metadata": {
        "id": "k0P8yabi4sJK",
        "colab_type": "code",
        "colab": {}
      },
      "source": [
        "# Train / Split Data\n",
        "X_train, X_test, y_train, y_test = train_test_split(X.drop(columns='favorite'), X.favorite,test_size = .25)"
      ],
      "execution_count": 16,
      "outputs": []
    },
    {
      "cell_type": "code",
      "metadata": {
        "id": "GFC1UsvG7tdi",
        "colab_type": "code",
        "colab": {
          "base_uri": "https://localhost:8080/",
          "height": 34
        },
        "outputId": "eed86e31-559b-4ed7-a459-287bae1e3937"
      },
      "source": [
        "# Hyperparameter tuning for the DecisionTreeClassifier\n",
        "parameters = {\n",
        "    'max_depth':[15,20,30],\n",
        "}\n",
        "dtc = Pipeline([('CV',GridSearchCV(DecisionTreeClassifier(), parameters, cv = 5))])\n",
        "dtc.fit(X_train, y_train)\n",
        "dtc.named_steps['CV'].best_params_"
      ],
      "execution_count": 17,
      "outputs": [
        {
          "output_type": "execute_result",
          "data": {
            "text/plain": [
              "{'max_depth': 30}"
            ]
          },
          "metadata": {
            "tags": []
          },
          "execution_count": 17
        }
      ]
    },
    {
      "cell_type": "code",
      "metadata": {
        "id": "NLEmvGqNFgwm",
        "colab_type": "code",
        "colab": {
          "base_uri": "https://localhost:8080/",
          "height": 34
        },
        "outputId": "07639c83-1d1f-4b34-bdbd-32800e5b1ea3"
      },
      "source": [
        "dt = DecisionTreeClassifier(max_depth=30)\n",
        "dt_scores = cross_val_score(dt, X_train, y_train, cv=10, scoring=\"f1\")\n",
        "np.mean(dt_scores)"
      ],
      "execution_count": 18,
      "outputs": [
        {
          "output_type": "execute_result",
          "data": {
            "text/plain": [
              "0.9998252650477653"
            ]
          },
          "metadata": {
            "tags": []
          },
          "execution_count": 18
        }
      ]
    },
    {
      "cell_type": "code",
      "metadata": {
        "id": "v8jNS340F8Hx",
        "colab_type": "code",
        "colab": {
          "base_uri": "https://localhost:8080/",
          "height": 34
        },
        "outputId": "32c383a8-042b-42ca-80bd-acc27bc8acd1"
      },
      "source": [
        "# Hyperparameter tuning for the RandomForestClassifier\n",
        "parameters = {\n",
        "    'max_depth':[6,12,15,20],\n",
        "    'n_estimators':[20,30]\n",
        "}\n",
        "clf = Pipeline([('CV',GridSearchCV(RandomForestClassifier(), parameters, cv = 5))])\n",
        "clf.fit(X_train, y_train)\n",
        "clf.named_steps['CV'].best_params_"
      ],
      "execution_count": 19,
      "outputs": [
        {
          "output_type": "execute_result",
          "data": {
            "text/plain": [
              "{'max_depth': 20, 'n_estimators': 20}"
            ]
          },
          "metadata": {
            "tags": []
          },
          "execution_count": 19
        }
      ]
    },
    {
      "cell_type": "code",
      "metadata": {
        "id": "lzc3FMwJGcU4",
        "colab_type": "code",
        "colab": {
          "base_uri": "https://localhost:8080/",
          "height": 34
        },
        "outputId": "4cb4a057-46cb-45bd-d423-21df5aa16f7a"
      },
      "source": [
        "# Cross-validation for RandomForestClassifier\n",
        "rf = Pipeline([('rf', RandomForestClassifier(n_estimators = 20, max_depth = 30))])\n",
        "rf_scores = cross_val_score(rf, X_train, y_train, cv=10, scoring=\"f1\")\n",
        "np.mean(rf_scores)"
      ],
      "execution_count": 20,
      "outputs": [
        {
          "output_type": "execute_result",
          "data": {
            "text/plain": [
              "0.9999799444173713"
            ]
          },
          "metadata": {
            "tags": []
          },
          "execution_count": 20
        }
      ]
    },
    {
      "cell_type": "markdown",
      "metadata": {
        "id": "VPALAuEGYMeF",
        "colab_type": "text"
      },
      "source": [
        "Based on the score obtained, the Random Forest Tree is the best model to make predictions in this case."
      ]
    },
    {
      "cell_type": "markdown",
      "metadata": {
        "id": "S3SDDEl0YYFr",
        "colab_type": "text"
      },
      "source": [
        "Now, I will predict 'favorite' songs from the entire dataset."
      ]
    },
    {
      "cell_type": "markdown",
      "metadata": {
        "id": "pZkJEQBEeEeE",
        "colab_type": "text"
      },
      "source": [
        "### Predicting Songs"
      ]
    },
    {
      "cell_type": "code",
      "metadata": {
        "id": "EjWDgp4wGdJh",
        "colab_type": "code",
        "colab": {}
      },
      "source": [
        "prediction = clf.predict(song_features.drop(columns=['track','track_id','favorite','genre','artist','key',\n",
        "                                                    'time_signature','mode']))"
      ],
      "execution_count": 21,
      "outputs": []
    },
    {
      "cell_type": "code",
      "metadata": {
        "id": "r9awYDYig89_",
        "colab_type": "code",
        "colab": {}
      },
      "source": [
        "# Adding a column for predictions\n",
        "song_features['prediction'] = prediction\n",
        "\n",
        "# With the recently created 'prediction' column we can get the songs that are not favorites but are predicted to be\n",
        "song_recommendation = song_features[(song_features['favorite']==0) & (song_features['prediction'] == 1)]"
      ],
      "execution_count": 22,
      "outputs": []
    },
    {
      "cell_type": "code",
      "metadata": {
        "id": "eDcFZRbekEXh",
        "colab_type": "code",
        "colab": {}
      },
      "source": [
        "# Cleaning the data so it only shows the necessary information \n",
        "song_recommendation = song_recommendation.drop(columns=['track_id','energy',\n",
        "                                                        'duration_ms','acousticness','key',\n",
        "                                                        'liveness','loudness','mode','speechiness',\n",
        "                                                        'tempo','time_signature','valence'])"
      ],
      "execution_count": 23,
      "outputs": []
    },
    {
      "cell_type": "code",
      "metadata": {
        "id": "HynubVldkiKD",
        "colab_type": "code",
        "colab": {
          "base_uri": "https://localhost:8080/",
          "height": 221
        },
        "outputId": "8b23e6b1-3a89-4105-818a-9eed54fb84be"
      },
      "source": [
        "song_recommendation.sample(5)"
      ],
      "execution_count": 24,
      "outputs": [
        {
          "output_type": "execute_result",
          "data": {
            "text/html": [
              "<div>\n",
              "<style scoped>\n",
              "    .dataframe tbody tr th:only-of-type {\n",
              "        vertical-align: middle;\n",
              "    }\n",
              "\n",
              "    .dataframe tbody tr th {\n",
              "        vertical-align: top;\n",
              "    }\n",
              "\n",
              "    .dataframe thead th {\n",
              "        text-align: right;\n",
              "    }\n",
              "</style>\n",
              "<table border=\"1\" class=\"dataframe\">\n",
              "  <thead>\n",
              "    <tr style=\"text-align: right;\">\n",
              "      <th></th>\n",
              "      <th>genre</th>\n",
              "      <th>artist</th>\n",
              "      <th>track</th>\n",
              "      <th>popularity</th>\n",
              "      <th>danceability</th>\n",
              "      <th>instrumentalness</th>\n",
              "      <th>favorite</th>\n",
              "      <th>prediction</th>\n",
              "    </tr>\n",
              "  </thead>\n",
              "  <tbody>\n",
              "    <tr>\n",
              "      <th>87518</th>\n",
              "      <td>Rap</td>\n",
              "      <td>Offset</td>\n",
              "      <td>Don't Lose Me</td>\n",
              "      <td>74</td>\n",
              "      <td>0.884</td>\n",
              "      <td>0.000630</td>\n",
              "      <td>0</td>\n",
              "      <td>1</td>\n",
              "    </tr>\n",
              "    <tr>\n",
              "      <th>67046</th>\n",
              "      <td>Hip-Hop</td>\n",
              "      <td>Drake</td>\n",
              "      <td>Finesse</td>\n",
              "      <td>72</td>\n",
              "      <td>0.807</td>\n",
              "      <td>0.000328</td>\n",
              "      <td>0</td>\n",
              "      <td>1</td>\n",
              "    </tr>\n",
              "    <tr>\n",
              "      <th>66679</th>\n",
              "      <td>Hip-Hop</td>\n",
              "      <td>Russ</td>\n",
              "      <td>Losin Control</td>\n",
              "      <td>79</td>\n",
              "      <td>0.759</td>\n",
              "      <td>0.000154</td>\n",
              "      <td>0</td>\n",
              "      <td>1</td>\n",
              "    </tr>\n",
              "    <tr>\n",
              "      <th>107982</th>\n",
              "      <td>Pop</td>\n",
              "      <td>blackbear</td>\n",
              "      <td>Idfc</td>\n",
              "      <td>80</td>\n",
              "      <td>0.630</td>\n",
              "      <td>0.000040</td>\n",
              "      <td>0</td>\n",
              "      <td>1</td>\n",
              "    </tr>\n",
              "    <tr>\n",
              "      <th>1273</th>\n",
              "      <td>Alternative</td>\n",
              "      <td>James Blake</td>\n",
              "      <td>Mile High (feat. Travis Scott &amp; Metro Boomin)</td>\n",
              "      <td>67</td>\n",
              "      <td>0.754</td>\n",
              "      <td>0.000062</td>\n",
              "      <td>0</td>\n",
              "      <td>1</td>\n",
              "    </tr>\n",
              "  </tbody>\n",
              "</table>\n",
              "</div>"
            ],
            "text/plain": [
              "              genre       artist  ... favorite  prediction\n",
              "87518           Rap       Offset  ...        0           1\n",
              "67046       Hip-Hop        Drake  ...        0           1\n",
              "66679       Hip-Hop         Russ  ...        0           1\n",
              "107982          Pop    blackbear  ...        0           1\n",
              "1273    Alternative  James Blake  ...        0           1\n",
              "\n",
              "[5 rows x 8 columns]"
            ]
          },
          "metadata": {
            "tags": []
          },
          "execution_count": 24
        }
      ]
    },
    {
      "cell_type": "code",
      "metadata": {
        "id": "0OKLDPhokktK",
        "colab_type": "code",
        "colab": {
          "base_uri": "https://localhost:8080/",
          "height": 34
        },
        "outputId": "b42d5658-ada4-4b8e-9d91-425c2f40705a"
      },
      "source": [
        "# Consulting how many songs were predicted as favorites\n",
        "song_recommendation.shape"
      ],
      "execution_count": 25,
      "outputs": [
        {
          "output_type": "execute_result",
          "data": {
            "text/plain": [
              "(75, 8)"
            ]
          },
          "metadata": {
            "tags": []
          },
          "execution_count": 25
        }
      ]
    },
    {
      "cell_type": "markdown",
      "metadata": {
        "id": "Bzt0BaSOko7T",
        "colab_type": "text"
      },
      "source": [
        "These is the resulting product of my song recommender. 129 songs out of the 232725 available from the \"Spotify Tracks DB\" were predicted to become my favorites. From the results I've gotten, I can confirm that i do know some of these artists and enjoy listening to their music."
      ]
    },
    {
      "cell_type": "markdown",
      "metadata": {
        "id": "su-3cT6LsNMt",
        "colab_type": "text"
      },
      "source": [
        "### Saving the results"
      ]
    },
    {
      "cell_type": "code",
      "metadata": {
        "id": "as7A6Op9sSDZ",
        "colab_type": "code",
        "colab": {
          "base_uri": "https://localhost:8080/",
          "height": 34
        },
        "outputId": "02380860-67ab-4c34-fbc7-401912c2c11e"
      },
      "source": [
        "song_recommendation.to_csv(\"recommendations.csv\")\n",
        "print(\"Done\")"
      ],
      "execution_count": 26,
      "outputs": [
        {
          "output_type": "stream",
          "text": [
            "Done\n"
          ],
          "name": "stdout"
        }
      ]
    }
  ]
}